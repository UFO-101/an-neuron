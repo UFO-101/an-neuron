{
 "cells": [
  {
   "cell_type": "code",
   "execution_count": null,
   "metadata": {},
   "outputs": [],
   "source": [
    "!nvidia-smi"
   ]
  },
  {
   "cell_type": "code",
   "execution_count": 33,
   "metadata": {},
   "outputs": [
    {
     "name": "stdout",
     "output_type": "stream",
     "text": [
      "cuda\n"
     ]
    }
   ],
   "source": [
    "import torch\n",
    "from easy_transformer.utils import (\n",
    "    gelu_new,\n",
    "    to_numpy,\n",
    "    get_corner,\n",
    "    lm_cross_entropy_loss,\n",
    ")  # Helper functions\n",
    "from easy_transformer.hook_points import (\n",
    "    HookedRootModule,\n",
    "    HookPoint,\n",
    ")  # Hooking utilities\n",
    "from easy_transformer import EasyTransformer, EasyTransformerConfig\n",
    "import easy_transformer\n",
    "from easy_transformer.experiments import (\n",
    "    ExperimentMetric,\n",
    "    AblationConfig,\n",
    "    EasyAblation,\n",
    "    EasyPatching,\n",
    "    PatchingConfig,\n",
    ")\n",
    "import tqdm\n",
    "import torch.nn.functional as F\n",
    "import inflect\n",
    "inflect_engine = inflect.engine()\n",
    "import matplotlib.pyplot as plt\n",
    "\n",
    "device = torch.device(\"cuda\" if torch.cuda.is_available() else \"cpu\")\n",
    "print(device)"
   ]
  },
  {
   "cell_type": "code",
   "execution_count": 39,
   "metadata": {},
   "outputs": [
    {
     "name": "stdout",
     "output_type": "stream",
     "text": [
      "Moving model to device:  cuda\n",
      "Moving model to device:  cuda\n",
      "before training\n",
      "Accuracy: 0.8 %\n",
      "Loss 4.7394585609436035\n"
     ]
    },
    {
     "name": "stderr",
     "output_type": "stream",
     "text": [
      "  0%|          | 0/3001 [00:00<?, ?it/s]"
     ]
    },
    {
     "name": "stdout",
     "output_type": "stream",
     "text": [
      "Accuracy: 3.125 %\n",
      "Loss 4.67634916305542\n"
     ]
    },
    {
     "name": "stderr",
     "output_type": "stream",
     "text": [
      "  4%|▍         | 117/3001 [00:00<00:21, 132.47it/s]"
     ]
    },
    {
     "name": "stdout",
     "output_type": "stream",
     "text": [
      "Accuracy: 32.8125 %\n",
      "Loss 2.014650344848633\n"
     ]
    },
    {
     "name": "stderr",
     "output_type": "stream",
     "text": [
      "  7%|▋         | 222/3001 [00:01<00:19, 142.75it/s]"
     ]
    },
    {
     "name": "stdout",
     "output_type": "stream",
     "text": [
      "Accuracy: 81.25 %\n",
      "Loss 0.6972610354423523\n"
     ]
    },
    {
     "name": "stderr",
     "output_type": "stream",
     "text": [
      " 11%|█         | 321/3001 [00:02<00:20, 129.61it/s]"
     ]
    },
    {
     "name": "stdout",
     "output_type": "stream",
     "text": [
      "Accuracy: 78.125 %\n",
      "Loss 0.6786795854568481\n"
     ]
    },
    {
     "name": "stderr",
     "output_type": "stream",
     "text": [
      " 14%|█▍        | 417/3001 [00:03<00:26, 99.36it/s] "
     ]
    },
    {
     "name": "stdout",
     "output_type": "stream",
     "text": [
      "Accuracy: 87.5 %\n",
      "Loss 0.35323190689086914\n"
     ]
    },
    {
     "name": "stderr",
     "output_type": "stream",
     "text": [
      " 17%|█▋        | 518/3001 [00:04<00:24, 99.49it/s]"
     ]
    },
    {
     "name": "stdout",
     "output_type": "stream",
     "text": [
      "Accuracy: 96.875 %\n",
      "Loss 0.08869458734989166\n"
     ]
    },
    {
     "name": "stderr",
     "output_type": "stream",
     "text": [
      " 21%|██        | 619/3001 [00:05<00:23, 102.44it/s]"
     ]
    },
    {
     "name": "stdout",
     "output_type": "stream",
     "text": [
      "Accuracy: 96.875 %\n",
      "Loss 0.08110418170690536\n"
     ]
    },
    {
     "name": "stderr",
     "output_type": "stream",
     "text": [
      " 24%|██▎       | 712/3001 [00:06<00:23, 97.64it/s] "
     ]
    },
    {
     "name": "stdout",
     "output_type": "stream",
     "text": [
      "Accuracy: 96.875 %\n",
      "Loss 0.1629868894815445\n"
     ]
    },
    {
     "name": "stderr",
     "output_type": "stream",
     "text": [
      " 27%|██▋       | 812/3001 [00:07<00:22, 96.44it/s]"
     ]
    },
    {
     "name": "stdout",
     "output_type": "stream",
     "text": [
      "Accuracy: 93.75 %\n",
      "Loss 0.09664350003004074\n"
     ]
    },
    {
     "name": "stderr",
     "output_type": "stream",
     "text": [
      " 30%|███       | 912/3001 [00:08<00:21, 95.81it/s]"
     ]
    },
    {
     "name": "stdout",
     "output_type": "stream",
     "text": [
      "Accuracy: 96.875 %\n",
      "Loss 0.06739205867052078\n"
     ]
    },
    {
     "name": "stderr",
     "output_type": "stream",
     "text": [
      " 34%|███▍      | 1013/3001 [00:09<00:20, 97.73it/s]"
     ]
    },
    {
     "name": "stdout",
     "output_type": "stream",
     "text": [
      "Accuracy: 96.875 %\n",
      "Loss 0.1177310198545456\n"
     ]
    },
    {
     "name": "stderr",
     "output_type": "stream",
     "text": [
      " 37%|███▋      | 1118/3001 [00:10<00:17, 109.36it/s]"
     ]
    },
    {
     "name": "stdout",
     "output_type": "stream",
     "text": [
      "Accuracy: 92.1875 %\n",
      "Loss 0.16180700063705444\n"
     ]
    },
    {
     "name": "stderr",
     "output_type": "stream",
     "text": [
      " 40%|████      | 1214/3001 [00:11<00:15, 118.27it/s]"
     ]
    },
    {
     "name": "stdout",
     "output_type": "stream",
     "text": [
      "Accuracy: 95.3125 %\n",
      "Loss 0.09672914445400238\n"
     ]
    },
    {
     "name": "stderr",
     "output_type": "stream",
     "text": [
      " 44%|████▍     | 1313/3001 [00:12<00:17, 97.29it/s] "
     ]
    },
    {
     "name": "stdout",
     "output_type": "stream",
     "text": [
      "Accuracy: 95.3125 %\n",
      "Loss 0.07750865072011948\n"
     ]
    },
    {
     "name": "stderr",
     "output_type": "stream",
     "text": [
      " 47%|████▋     | 1413/3001 [00:13<00:16, 95.11it/s]"
     ]
    },
    {
     "name": "stdout",
     "output_type": "stream",
     "text": [
      "Accuracy: 93.75 %\n",
      "Loss 0.12897618114948273\n"
     ]
    },
    {
     "name": "stderr",
     "output_type": "stream",
     "text": [
      " 50%|█████     | 1514/3001 [00:14<00:15, 96.68it/s]"
     ]
    },
    {
     "name": "stdout",
     "output_type": "stream",
     "text": [
      "Accuracy: 96.875 %\n",
      "Loss 0.07407044619321823\n"
     ]
    },
    {
     "name": "stderr",
     "output_type": "stream",
     "text": [
      " 54%|█████▍    | 1614/3001 [00:15<00:14, 95.63it/s]"
     ]
    },
    {
     "name": "stdout",
     "output_type": "stream",
     "text": [
      "Accuracy: 90.625 %\n",
      "Loss 0.1326834261417389\n"
     ]
    },
    {
     "name": "stderr",
     "output_type": "stream",
     "text": [
      " 57%|█████▋    | 1714/3001 [00:16<00:13, 96.43it/s]"
     ]
    },
    {
     "name": "stdout",
     "output_type": "stream",
     "text": [
      "Accuracy: 96.875 %\n",
      "Loss 0.04673801735043526\n"
     ]
    },
    {
     "name": "stderr",
     "output_type": "stream",
     "text": [
      " 61%|██████    | 1820/3001 [00:17<00:11, 99.76it/s] "
     ]
    },
    {
     "name": "stdout",
     "output_type": "stream",
     "text": [
      "Accuracy: 95.3125 %\n",
      "Loss 0.09937833249568939\n"
     ]
    },
    {
     "name": "stderr",
     "output_type": "stream",
     "text": [
      " 64%|██████▎   | 1912/3001 [00:18<00:11, 97.32it/s]"
     ]
    },
    {
     "name": "stdout",
     "output_type": "stream",
     "text": [
      "Accuracy: 96.875 %\n",
      "Loss 0.0703931376338005\n"
     ]
    },
    {
     "name": "stderr",
     "output_type": "stream",
     "text": [
      " 67%|██████▋   | 2012/3001 [00:19<00:10, 94.95it/s]"
     ]
    },
    {
     "name": "stdout",
     "output_type": "stream",
     "text": [
      "Accuracy: 98.4375 %\n",
      "Loss 0.05490987002849579\n"
     ]
    },
    {
     "name": "stderr",
     "output_type": "stream",
     "text": [
      " 70%|███████   | 2112/3001 [00:20<00:09, 96.27it/s]"
     ]
    },
    {
     "name": "stdout",
     "output_type": "stream",
     "text": [
      "Accuracy: 100.0 %\n",
      "Loss 0.005159168969839811\n"
     ]
    },
    {
     "name": "stderr",
     "output_type": "stream",
     "text": [
      " 74%|███████▍  | 2224/3001 [00:21<00:06, 119.52it/s]"
     ]
    },
    {
     "name": "stdout",
     "output_type": "stream",
     "text": [
      "Accuracy: 100.0 %\n",
      "Loss 0.0015752504114061594\n"
     ]
    },
    {
     "name": "stderr",
     "output_type": "stream",
     "text": [
      " 77%|███████▋  | 2321/3001 [00:22<00:05, 135.57it/s]"
     ]
    },
    {
     "name": "stdout",
     "output_type": "stream",
     "text": [
      "Accuracy: 98.4375 %\n",
      "Loss 0.03827865421772003\n"
     ]
    },
    {
     "name": "stderr",
     "output_type": "stream",
     "text": [
      " 80%|████████  | 2407/3001 [00:22<00:04, 127.36it/s]"
     ]
    },
    {
     "name": "stdout",
     "output_type": "stream",
     "text": [
      "Accuracy: 98.4375 %\n",
      "Loss 0.03246656432747841\n"
     ]
    },
    {
     "name": "stderr",
     "output_type": "stream",
     "text": [
      " 84%|████████▍ | 2518/3001 [00:24<00:04, 96.82it/s] "
     ]
    },
    {
     "name": "stdout",
     "output_type": "stream",
     "text": [
      "Accuracy: 98.4375 %\n",
      "Loss 0.020388809964060783\n"
     ]
    },
    {
     "name": "stderr",
     "output_type": "stream",
     "text": [
      " 87%|████████▋ | 2620/3001 [00:25<00:03, 97.48it/s]"
     ]
    },
    {
     "name": "stdout",
     "output_type": "stream",
     "text": [
      "Accuracy: 98.4375 %\n",
      "Loss 0.09976913034915924\n"
     ]
    },
    {
     "name": "stderr",
     "output_type": "stream",
     "text": [
      " 91%|█████████ | 2725/3001 [00:26<00:02, 121.27it/s]"
     ]
    },
    {
     "name": "stdout",
     "output_type": "stream",
     "text": [
      "Accuracy: 98.4375 %\n",
      "Loss 0.039693307131528854\n"
     ]
    },
    {
     "name": "stderr",
     "output_type": "stream",
     "text": [
      " 94%|█████████▍| 2825/3001 [00:26<00:01, 142.40it/s]"
     ]
    },
    {
     "name": "stdout",
     "output_type": "stream",
     "text": [
      "Accuracy: 100.0 %\n",
      "Loss 0.001892573432996869\n"
     ]
    },
    {
     "name": "stderr",
     "output_type": "stream",
     "text": [
      " 97%|█████████▋| 2925/3001 [00:27<00:00, 159.78it/s]"
     ]
    },
    {
     "name": "stdout",
     "output_type": "stream",
     "text": [
      "Accuracy: 100.0 %\n",
      "Loss 0.00042971092625521123\n"
     ]
    },
    {
     "name": "stderr",
     "output_type": "stream",
     "text": [
      "100%|██████████| 3001/3001 [00:27<00:00, 107.53it/s]\n"
     ]
    },
    {
     "name": "stdout",
     "output_type": "stream",
     "text": [
      "Accuracy: 98.4375 %\n",
      "Loss 0.02394726872444153\n"
     ]
    },
    {
     "data": {
      "text/plain": [
       "[<matplotlib.lines.Line2D at 0x7fae8c6b3af0>]"
      ]
     },
     "execution_count": 39,
     "metadata": {},
     "output_type": "execute_result"
    },
    {
     "data": {
      "image/png": "[encoded data removed]",
      "text/plain": [
       "<Figure size 640x480 with 1 Axes>"
      ]
     },
     "metadata": {},
     "output_type": "display_data"
    }
   ],
   "source": [
    "vocab_size = 100\n",
    "sequence_length = 50\n",
    "batch_size = 64\n",
    "\n",
    "tiny_cfg = EasyTransformerConfig(\n",
    "    d_model=32,\n",
    "    d_head=16,\n",
    "    n_heads=2,\n",
    "    d_mlp=128,\n",
    "    n_layers=1,\n",
    "    n_ctx=50,\n",
    "    act_fn=\"solu_ln\",\n",
    "    d_vocab=vocab_size,\n",
    "    normalization_type=\"LN\",\n",
    "    seed=23,\n",
    ")\n",
    "tiny_model = EasyTransformer(tiny_cfg).to(device)\n",
    "tiny_optimizer = torch.optim.Adam(tiny_model.parameters(), lr=1e-3)\n",
    "cross_entropy_loss = torch.nn.CrossEntropyLoss()\n",
    "\n",
    "\n",
    "def evaluate_model(test_model, batch_size, print_output, number_to_print=0):\n",
    "    test_batch = torch.randint(0, vocab_size, (batch_size, sequence_length)).to(device)\n",
    "    output_logits = test_model(test_batch, return_type=\"logits\")\n",
    "\n",
    "    smallest_elements = torch.min(test_batch, dim=1, keepdim=False)[0]\n",
    "    one_hots = torch.nn.functional.one_hot(smallest_elements, num_classes=tiny_cfg.d_vocab).to(torch.float32)\n",
    "    loss = cross_entropy_loss(output_logits[:, -1], one_hots)\n",
    "\n",
    "    if print_output:\n",
    "        output_probs = torch.softmax(output_logits, dim=-1) # Convert logits to probabilities\n",
    "        output_tokens = torch.argmax(output_probs, dim=-1) # Get the most likely tokens\n",
    "        output_tokens = output_tokens[:, -1] # Only take the last token of each sequence\n",
    "        test_batch_lists = test_batch.cpu().tolist()\n",
    "        outputs_list = output_tokens.cpu().tolist()\n",
    "        correct_count = 0\n",
    "        for index, (sequence, answer_given) in enumerate(list(zip(test_batch_lists, outputs_list))):\n",
    "            correct_answer = min(sequence)\n",
    "            answer_in_list = answer_given in sequence\n",
    "            if answer_given == correct_answer:\n",
    "                correct_count += 1\n",
    "            if index < number_to_print:\n",
    "                print(\"sequence: \", sequence, \"answer_given: \", answer_given)\n",
    "                if answer_given == correct_answer:\n",
    "                    print(\"Correct! Answer is: \", correct_answer)\n",
    "                elif answer_in_list:\n",
    "                    answer_given_rank = sorted(list(set(sequence)), reverse=False).index(answer_given)\n",
    "                    print(\"Incorrect! Answer given:\", answer_given, \"which is the\", inflect_engine.ordinal(answer_given_rank + 1) , \"smallest in the list (not including duplicate)\")\n",
    "                else:\n",
    "                    print(\"Incorrect! Answer given:\", answer_given, \"which is not in the sequence\")\n",
    "\n",
    "        print(\"Accuracy:\", correct_count / len(output_tokens) * 100, \"%\")\n",
    "        print(\"Loss\", loss.item())\n",
    "        # print('output_logits[:, -1][0]', output_logits[:, -1][0])\n",
    "        # print('one hots[0]', one_hots[0])\n",
    "\n",
    "    return loss\n",
    "\n",
    "loss_history = []\n",
    "print('before training')\n",
    "loss = evaluate_model(tiny_model, batch_size=1000, print_output=epoch % 100 == 0)\n",
    "for epoch in tqdm.tqdm(range(3001)):\n",
    "    loss = evaluate_model(tiny_model, batch_size=batch_size, print_output=epoch % 100 == 0, number_to_print=0)\n",
    "    loss.backward()\n",
    "    loss_history.append(loss.item())\n",
    "    tiny_optimizer.step()\n",
    "    tiny_optimizer.zero_grad()\n",
    "plt.plot(loss_history)"
   ]
  }
 ],
 "metadata": {
  "kernelspec": {
   "display_name": "Python 3.9.5 ('venv': venv)",
   "language": "python",
   "name": "python3"
  },
  "language_info": {
   "codemirror_mode": {
    "name": "ipython",
    "version": 3
   },
   "file_extension": ".py",
   "mimetype": "text/x-python",
   "name": "python",
   "nbconvert_exporter": "python",
   "pygments_lexer": "ipython3",
   "version": "3.9.5"
  },
  "orig_nbformat": 4,
  "vscode": {
   "interpreter": {
    "hash": "1734578f18969005ec6a521d0124889a521394ee45fb1fa15a11797b3f9291ec"
   }
  }
 },
 "nbformat": 4,
 "nbformat_minor": 2
}
